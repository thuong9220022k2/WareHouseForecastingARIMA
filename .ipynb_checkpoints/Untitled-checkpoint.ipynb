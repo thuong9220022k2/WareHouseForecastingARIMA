{
 "cells": [
  {
   "cell_type": "code",
   "execution_count": 11,
   "id": "d6ea3686",
   "metadata": {},
   "outputs": [],
   "source": [
    "import os\n",
    "for dirname, _, filenames in os.walk('/warehouse'):\n",
    "    for filename in filenames:\n",
    "        print(os.path.join(dirname, filename))"
   ]
  },
  {
   "cell_type": "code",
   "execution_count": 29,
   "id": "95f846fa",
   "metadata": {},
   "outputs": [],
   "source": [
    "#Import Libraries\n",
    "import pandas as pd\n",
    "import numpy as np\n",
    "import seaborn as sb\n",
    "import matplotlib.pyplot as plt\n",
    "%matplotlib inline\n",
    "\n",
    "from scipy.stats import norm, skew #for some statistics\n",
    "from scipy import stats #qqplot\n",
    "import statsmodels.api as sm #for decomposing the trends, seasonality etc.\n",
    "\n",
    "from statsmodels.tsa.statespace.sarimax import SARIMAX #the big daddy"
   ]
  },
  {
   "cell_type": "code",
   "execution_count": 30,
   "id": "423d646c",
   "metadata": {},
   "outputs": [],
   "source": [
    "#Import the data and parse dates.\n",
    "df  = pd.read_csv('./input/Historical Product Demand.csv', parse_dates=['Date'])"
   ]
  },
  {
   "cell_type": "code",
   "execution_count": 31,
   "id": "2f90bdf7",
   "metadata": {},
   "outputs": [
    {
     "data": {
      "text/html": [
       "<div>\n",
       "<style scoped>\n",
       "    .dataframe tbody tr th:only-of-type {\n",
       "        vertical-align: middle;\n",
       "    }\n",
       "\n",
       "    .dataframe tbody tr th {\n",
       "        vertical-align: top;\n",
       "    }\n",
       "\n",
       "    .dataframe thead th {\n",
       "        text-align: right;\n",
       "    }\n",
       "</style>\n",
       "<table border=\"1\" class=\"dataframe\">\n",
       "  <thead>\n",
       "    <tr style=\"text-align: right;\">\n",
       "      <th></th>\n",
       "      <th>Product_Code</th>\n",
       "      <th>Warehouse</th>\n",
       "      <th>Product_Category</th>\n",
       "      <th>Date</th>\n",
       "      <th>Order_Demand</th>\n",
       "    </tr>\n",
       "  </thead>\n",
       "  <tbody>\n",
       "    <tr>\n",
       "      <th>0</th>\n",
       "      <td>Product_0993</td>\n",
       "      <td>Whse_J</td>\n",
       "      <td>Category_028</td>\n",
       "      <td>2012-07-27</td>\n",
       "      <td>100</td>\n",
       "    </tr>\n",
       "    <tr>\n",
       "      <th>1</th>\n",
       "      <td>Product_0979</td>\n",
       "      <td>Whse_J</td>\n",
       "      <td>Category_028</td>\n",
       "      <td>2012-01-19</td>\n",
       "      <td>500</td>\n",
       "    </tr>\n",
       "    <tr>\n",
       "      <th>2</th>\n",
       "      <td>Product_0979</td>\n",
       "      <td>Whse_J</td>\n",
       "      <td>Category_028</td>\n",
       "      <td>2012-02-03</td>\n",
       "      <td>500</td>\n",
       "    </tr>\n",
       "    <tr>\n",
       "      <th>3</th>\n",
       "      <td>Product_0979</td>\n",
       "      <td>Whse_J</td>\n",
       "      <td>Category_028</td>\n",
       "      <td>2012-02-09</td>\n",
       "      <td>500</td>\n",
       "    </tr>\n",
       "    <tr>\n",
       "      <th>4</th>\n",
       "      <td>Product_0979</td>\n",
       "      <td>Whse_J</td>\n",
       "      <td>Category_028</td>\n",
       "      <td>2012-03-02</td>\n",
       "      <td>500</td>\n",
       "    </tr>\n",
       "  </tbody>\n",
       "</table>\n",
       "</div>"
      ],
      "text/plain": [
       "   Product_Code Warehouse Product_Category       Date Order_Demand\n",
       "0  Product_0993    Whse_J     Category_028 2012-07-27         100 \n",
       "1  Product_0979    Whse_J     Category_028 2012-01-19         500 \n",
       "2  Product_0979    Whse_J     Category_028 2012-02-03         500 \n",
       "3  Product_0979    Whse_J     Category_028 2012-02-09         500 \n",
       "4  Product_0979    Whse_J     Category_028 2012-03-02         500 "
      ]
     },
     "execution_count": 31,
     "metadata": {},
     "output_type": "execute_result"
    }
   ],
   "source": [
    "df.head(5)"
   ]
  },
  {
   "cell_type": "code",
   "execution_count": 32,
   "id": "7900daa3",
   "metadata": {},
   "outputs": [
    {
     "data": {
      "text/plain": [
       "Whse_J    764447\n",
       "Whse_A    153574\n",
       "Whse_S     88200\n",
       "Whse_C     42354\n",
       "Name: Warehouse, dtype: int64"
      ]
     },
     "execution_count": 32,
     "metadata": {},
     "output_type": "execute_result"
    }
   ],
   "source": [
    "#Warehouse shipping by orders.\n",
    "df['Warehouse'].value_counts().sort_values(ascending = False)"
   ]
  },
  {
   "cell_type": "code",
   "execution_count": 33,
   "id": "857d8b63",
   "metadata": {},
   "outputs": [
    {
     "data": {
      "text/plain": [
       "(1048575, 5)"
      ]
     },
     "execution_count": 33,
     "metadata": {},
     "output_type": "execute_result"
    }
   ],
   "source": [
    "#Check the cardinality.\n",
    "df.shape"
   ]
  },
  {
   "cell_type": "code",
   "execution_count": 34,
   "id": "cea66fb8",
   "metadata": {},
   "outputs": [
    {
     "data": {
      "text/plain": [
       "Product_Code                object\n",
       "Warehouse                   object\n",
       "Product_Category            object\n",
       "Date                datetime64[ns]\n",
       "Order_Demand                object\n",
       "dtype: object"
      ]
     },
     "execution_count": 34,
     "metadata": {},
     "output_type": "execute_result"
    }
   ],
   "source": [
    "#Check the data types.\n",
    "df.dtypes"
   ]
  },
  {
   "cell_type": "code",
   "execution_count": 35,
   "id": "5f379a4b",
   "metadata": {
    "scrolled": true
   },
   "outputs": [
    {
     "data": {
      "text/plain": [
       "(Timestamp('2011-01-08 00:00:00'), Timestamp('2017-01-09 00:00:00'))"
      ]
     },
     "execution_count": 35,
     "metadata": {},
     "output_type": "execute_result"
    }
   ],
   "source": [
    "#Get the lowest and highest dates in the dataset.\n",
    "df['Date'].min() , df['Date'].max()\n",
    "#There is data for 6 years. great."
   ]
  },
  {
   "cell_type": "code",
   "execution_count": 36,
   "id": "1b5e292e",
   "metadata": {},
   "outputs": [],
   "source": [
    "df = df[(df['Date']>='2016-01-08') & (df['Date']<='2017-01-09')].sort_values('Date', ascending=True)"
   ]
  },
  {
   "cell_type": "code",
   "execution_count": 37,
   "id": "c679d4dc",
   "metadata": {},
   "outputs": [
    {
     "name": "stdout",
     "output_type": "stream",
     "text": [
      "0  /  5\n",
      "0  /  185923\n"
     ]
    }
   ],
   "source": [
    "# Check any number of columns with NaN\n",
    "print(df.isnull().any().sum(), ' / ', len(df.columns))\n",
    "# Check any number of data points with NaN\n",
    "print(df.isnull().any(axis=1).sum(), ' / ', len(df))"
   ]
  },
  {
   "cell_type": "code",
   "execution_count": 38,
   "id": "49c33d99",
   "metadata": {},
   "outputs": [
    {
     "name": "stdout",
     "output_type": "stream",
     "text": [
      "Product_Code        0\n",
      "Warehouse           0\n",
      "Product_Category    0\n",
      "Date                0\n",
      "Order_Demand        0\n",
      "dtype: int64\n",
      "Null to Dataset Ratio in Dates:  0.0\n"
     ]
    }
   ],
   "source": [
    "#Lets check where these nulls are.\n",
    "print (df.isna().sum())\n",
    "print ('Null to Dataset Ratio in Dates: ',df.isnull().sum()[3]/df.shape[0]*100)\n",
    "#There are missing values in Dates."
   ]
  },
  {
   "cell_type": "code",
   "execution_count": 39,
   "id": "6f5bffad",
   "metadata": {},
   "outputs": [
    {
     "data": {
      "text/html": [
       "<div>\n",
       "<style scoped>\n",
       "    .dataframe tbody tr th:only-of-type {\n",
       "        vertical-align: middle;\n",
       "    }\n",
       "\n",
       "    .dataframe tbody tr th {\n",
       "        vertical-align: top;\n",
       "    }\n",
       "\n",
       "    .dataframe thead th {\n",
       "        text-align: right;\n",
       "    }\n",
       "</style>\n",
       "<table border=\"1\" class=\"dataframe\">\n",
       "  <thead>\n",
       "    <tr style=\"text-align: right;\">\n",
       "      <th></th>\n",
       "      <th>Product_Code</th>\n",
       "      <th>Warehouse</th>\n",
       "      <th>Product_Category</th>\n",
       "      <th>Date</th>\n",
       "      <th>Order_Demand</th>\n",
       "    </tr>\n",
       "  </thead>\n",
       "  <tbody>\n",
       "    <tr>\n",
       "      <th>876810</th>\n",
       "      <td>Product_0020</td>\n",
       "      <td>Whse_J</td>\n",
       "      <td>Category_005</td>\n",
       "      <td>2016-01-08</td>\n",
       "      <td>1000</td>\n",
       "    </tr>\n",
       "    <tr>\n",
       "      <th>932172</th>\n",
       "      <td>Product_1712</td>\n",
       "      <td>Whse_J</td>\n",
       "      <td>Category_026</td>\n",
       "      <td>2016-01-08</td>\n",
       "      <td>3</td>\n",
       "    </tr>\n",
       "    <tr>\n",
       "      <th>957415</th>\n",
       "      <td>Product_1454</td>\n",
       "      <td>Whse_J</td>\n",
       "      <td>Category_019</td>\n",
       "      <td>2016-01-08</td>\n",
       "      <td>1000</td>\n",
       "    </tr>\n",
       "    <tr>\n",
       "      <th>957416</th>\n",
       "      <td>Product_1493</td>\n",
       "      <td>Whse_J</td>\n",
       "      <td>Category_019</td>\n",
       "      <td>2016-01-08</td>\n",
       "      <td>500</td>\n",
       "    </tr>\n",
       "    <tr>\n",
       "      <th>957417</th>\n",
       "      <td>Product_1505</td>\n",
       "      <td>Whse_J</td>\n",
       "      <td>Category_019</td>\n",
       "      <td>2016-01-08</td>\n",
       "      <td>3000</td>\n",
       "    </tr>\n",
       "    <tr>\n",
       "      <th>876879</th>\n",
       "      <td>Product_1360</td>\n",
       "      <td>Whse_J</td>\n",
       "      <td>Category_019</td>\n",
       "      <td>2016-01-08</td>\n",
       "      <td>50000</td>\n",
       "    </tr>\n",
       "    <tr>\n",
       "      <th>877660</th>\n",
       "      <td>Product_1451</td>\n",
       "      <td>Whse_J</td>\n",
       "      <td>Category_019</td>\n",
       "      <td>2016-01-08</td>\n",
       "      <td>100000</td>\n",
       "    </tr>\n",
       "    <tr>\n",
       "      <th>877661</th>\n",
       "      <td>Product_1520</td>\n",
       "      <td>Whse_J</td>\n",
       "      <td>Category_019</td>\n",
       "      <td>2016-01-08</td>\n",
       "      <td>15000</td>\n",
       "    </tr>\n",
       "    <tr>\n",
       "      <th>937473</th>\n",
       "      <td>Product_0790</td>\n",
       "      <td>Whse_J</td>\n",
       "      <td>Category_001</td>\n",
       "      <td>2016-01-08</td>\n",
       "      <td>10</td>\n",
       "    </tr>\n",
       "    <tr>\n",
       "      <th>877659</th>\n",
       "      <td>Product_1393</td>\n",
       "      <td>Whse_J</td>\n",
       "      <td>Category_019</td>\n",
       "      <td>2016-01-08</td>\n",
       "      <td>77000</td>\n",
       "    </tr>\n",
       "  </tbody>\n",
       "</table>\n",
       "</div>"
      ],
      "text/plain": [
       "        Product_Code Warehouse Product_Category       Date Order_Demand\n",
       "876810  Product_0020    Whse_J     Category_005 2016-01-08        1000 \n",
       "932172  Product_1712    Whse_J     Category_026 2016-01-08           3 \n",
       "957415  Product_1454    Whse_J     Category_019 2016-01-08        1000 \n",
       "957416  Product_1493    Whse_J     Category_019 2016-01-08         500 \n",
       "957417  Product_1505    Whse_J     Category_019 2016-01-08        3000 \n",
       "876879  Product_1360    Whse_J     Category_019 2016-01-08       50000 \n",
       "877660  Product_1451    Whse_J     Category_019 2016-01-08      100000 \n",
       "877661  Product_1520    Whse_J     Category_019 2016-01-08       15000 \n",
       "937473  Product_0790    Whse_J     Category_001 2016-01-08          10 \n",
       "877659  Product_1393    Whse_J     Category_019 2016-01-08       77000 "
      ]
     },
     "execution_count": 39,
     "metadata": {},
     "output_type": "execute_result"
    }
   ],
   "source": [
    "#Drop na's.\n",
    "\n",
    "#Since the number of missing values are about 1%, I am taking an 'executive decision' of removing them. ;) \n",
    "df.dropna(axis=0, inplace=True) #remove all rows with na's.\n",
    "df.reset_index(drop=True)\n",
    "df.sort_values('Date')[10:20] #Some of the values have () in them."
   ]
  },
  {
   "cell_type": "code",
   "execution_count": 40,
   "id": "bcd6c98a",
   "metadata": {},
   "outputs": [],
   "source": [
    "#Lets start with 2012 and cap it 2016 december. Since the dates before 2012 have a lot of missing values - inspected and checked using basic time series plot.\n",
    "df = df[(df['Date']>='2012-01-01') & (df['Date']<='2016-12-31')].sort_values('Date', ascending=True)"
   ]
  },
  {
   "cell_type": "code",
   "execution_count": 53,
   "id": "c8edaead",
   "metadata": {},
   "outputs": [],
   "source": [
    "# Convert 'Order_Demand' column to string type\n",
    "df['Order_Demand'] = df['Order_Demand'].astype(str)\n",
    "\n",
    "# Remove parentheses from the values in 'Order_Demand' column\n",
    "df['Order_Demand'] = df['Order_Demand'].str.replace('(', '', regex=False)\n",
    "df['Order_Demand'] = df['Order_Demand'].str.replace(')', '', regex=False)\n",
    "\n",
    "# Convert 'Order_Demand' column to the desired numeric type (e.g., int64)\n",
    "df['Order_Demand'] = df['Order_Demand'].astype('int64')\n"
   ]
  },
  {
   "cell_type": "code",
   "execution_count": 56,
   "id": "f9edc00b",
   "metadata": {},
   "outputs": [
    {
     "name": "stderr",
     "output_type": "stream",
     "text": [
      "C:\\Users\\ASUS\\AppData\\Local\\Temp\\ipykernel_6720\\1827660998.py:7: UserWarning: \n",
      "\n",
      "`distplot` is a deprecated function and will be removed in seaborn v0.14.0.\n",
      "\n",
      "Please adapt your code to use either `displot` (a figure-level function with\n",
      "similar flexibility) or `histplot` (an axes-level function for histograms).\n",
      "\n",
      "For a guide to updating your code to use the new functions, please see\n",
      "https://gist.github.com/mwaskom/de44147ed2974457ad6372750bbe5751\n",
      "\n",
      "  sb.distplot(df['Order_Demand'], fit=norm)\n"
     ]
    },
    {
     "data": {
      "image/png": "[encoded data removed]",
      "text/plain": [
       "<Figure size 400x200 with 1 Axes>"
      ]
     },
     "metadata": {},
     "output_type": "display_data"
    },
    {
     "data": {
      "image/png": "[encoded data removed]",
      "text/plain": [
       "<Figure size 400x200 with 1 Axes>"
      ]
     },
     "metadata": {},
     "output_type": "display_data"
    }
   ],
   "source": [
    "from scipy import stats\n",
    "from matplotlib import rcParams\n",
    "from matplotlib import rcParams\n",
    "# figure size in inches\n",
    "rcParams['figure.figsize'] = 4,2\n",
    "\n",
    "sb.distplot(df['Order_Demand'], fit=norm)\n",
    "\n",
    "#Get the QQ-plot\n",
    "fig = plt.figure()\n",
    "res = stats.probplot(df['Order_Demand'], plot=plt)\n",
    "plt.show()"
   ]
  },
  {
   "cell_type": "code",
   "execution_count": 57,
   "id": "4fbccb09",
   "metadata": {},
   "outputs": [
    {
     "data": {
      "text/plain": [
       "27.97464674490862"
      ]
     },
     "execution_count": 57,
     "metadata": {},
     "output_type": "execute_result"
    }
   ],
   "source": [
    "#The data is highly skewed, but since we'll be applying ARIMA, it's fine.\n",
    "df['Order_Demand'].skew()"
   ]
  },
  {
   "cell_type": "code",
   "execution_count": 58,
   "id": "fac4ee6d",
   "metadata": {},
   "outputs": [
    {
     "data": {
      "text/plain": [
       "Whse_J    143938\n",
       "Whse_A     25305\n",
       "Whse_C     10113\n",
       "Whse_S      6514\n",
       "Name: Warehouse, dtype: int64"
      ]
     },
     "execution_count": 58,
     "metadata": {},
     "output_type": "execute_result"
    }
   ],
   "source": [
    "#Warehouse shipping by orders.\n",
    "df['Warehouse'].value_counts().sort_values(ascending = False)"
   ]
  },
  {
   "cell_type": "code",
   "execution_count": 59,
   "id": "77dc7a1d",
   "metadata": {},
   "outputs": [
    {
     "name": "stderr",
     "output_type": "stream",
     "text": [
      "C:\\Users\\ASUS\\AppData\\Local\\Temp\\ipykernel_6720\\288732004.py:2: FutureWarning: The default value of numeric_only in DataFrameGroupBy.sum is deprecated. In a future version, numeric_only will default to False. Either specify numeric_only or select only columns which should be valid for the function.\n",
      "  df.groupby('Warehouse').sum().sort_values('Order_Demand', ascending = False)\n"
     ]
    },
    {
     "data": {
      "text/html": [
       "<div>\n",
       "<style scoped>\n",
       "    .dataframe tbody tr th:only-of-type {\n",
       "        vertical-align: middle;\n",
       "    }\n",
       "\n",
       "    .dataframe tbody tr th {\n",
       "        vertical-align: top;\n",
       "    }\n",
       "\n",
       "    .dataframe thead th {\n",
       "        text-align: right;\n",
       "    }\n",
       "</style>\n",
       "<table border=\"1\" class=\"dataframe\">\n",
       "  <thead>\n",
       "    <tr style=\"text-align: right;\">\n",
       "      <th></th>\n",
       "      <th>Order_Demand</th>\n",
       "    </tr>\n",
       "    <tr>\n",
       "      <th>Warehouse</th>\n",
       "      <th></th>\n",
       "    </tr>\n",
       "  </thead>\n",
       "  <tbody>\n",
       "    <tr>\n",
       "      <th>Whse_J</th>\n",
       "      <td>674855241</td>\n",
       "    </tr>\n",
       "    <tr>\n",
       "      <th>Whse_S</th>\n",
       "      <td>142356218</td>\n",
       "    </tr>\n",
       "    <tr>\n",
       "      <th>Whse_C</th>\n",
       "      <td>129456153</td>\n",
       "    </tr>\n",
       "    <tr>\n",
       "      <th>Whse_A</th>\n",
       "      <td>29915161</td>\n",
       "    </tr>\n",
       "  </tbody>\n",
       "</table>\n",
       "</div>"
      ],
      "text/plain": [
       "           Order_Demand\n",
       "Warehouse              \n",
       "Whse_J        674855241\n",
       "Whse_S        142356218\n",
       "Whse_C        129456153\n",
       "Whse_A         29915161"
      ]
     },
     "execution_count": 59,
     "metadata": {},
     "output_type": "execute_result"
    }
   ],
   "source": [
    "#The amount of orders shipped by each warehouse.\n",
    "df.groupby('Warehouse').sum().sort_values('Order_Demand', ascending = False)\n",
    "#Warehouse J is clearly shipping most orders. Although S is shipping more quantity within fewer requested orders."
   ]
  },
  {
   "cell_type": "code",
   "execution_count": 65,
   "id": "560c9a41",
   "metadata": {},
   "outputs": [
    {
     "data": {
      "image/png": "[encoded data removed]",
      "text/plain": [
       "<Figure size 5000x1400 with 1 Axes>"
      ]
     },
     "metadata": {},
     "output_type": "display_data"
    }
   ],
   "source": [
    "\n",
    "\n",
    "# Drop missing values in the 'Product_Category' column\n",
    "df_filtered = df.dropna(subset=['Product_Category'])\n",
    "\n",
    "# Count the number of occurrences for each product category\n",
    "category_counts = df_filtered['Product_Category'].value_counts()\n",
    "\n",
    "# Sort the categories based on the count in descending order\n",
    "sorted_categories = category_counts.index.sort_values()\n",
    "\n",
    "# Create the countplot\n",
    "plt.figure(figsize=(50, 14))\n",
    "sb.countplot(data=df_filtered, x='Product_Category', order=sorted_categories)\n",
    "\n",
    "plt.title('Count of Orders by Product Category')\n",
    "plt.xlabel('Product Category')\n",
    "plt.ylabel('Count')\n",
    "plt.xticks(rotation=90)\n",
    "\n",
    "plt.show()\n",
    "\n"
   ]
  },
  {
   "cell_type": "code",
   "execution_count": 67,
   "id": "5296e7f7",
   "metadata": {},
   "outputs": [
    {
     "ename": "TypeError",
     "evalue": "boxplot() takes from 0 to 1 positional arguments but 2 positional arguments (and 1 keyword-only argument) were given",
     "output_type": "error",
     "traceback": [
      "\u001b[1;31m---------------------------------------------------------------------------\u001b[0m",
      "\u001b[1;31mTypeError\u001b[0m                                 Traceback (most recent call last)",
      "Cell \u001b[1;32mIn[67], line 9\u001b[0m\n\u001b[0;32m      7\u001b[0m f, axes \u001b[38;5;241m=\u001b[39m plt\u001b[38;5;241m.\u001b[39msubplots(\u001b[38;5;241m1\u001b[39m, \u001b[38;5;241m2\u001b[39m)\n\u001b[0;32m      8\u001b[0m \u001b[38;5;66;03m#Regular Data\u001b[39;00m\n\u001b[1;32m----> 9\u001b[0m fig3 \u001b[38;5;241m=\u001b[39m \u001b[43msb\u001b[49m\u001b[38;5;241;43m.\u001b[39;49m\u001b[43mboxplot\u001b[49m\u001b[43m(\u001b[49m\u001b[43m \u001b[49m\u001b[43mdf\u001b[49m\u001b[43m[\u001b[49m\u001b[38;5;124;43m'\u001b[39;49m\u001b[38;5;124;43mWarehouse\u001b[39;49m\u001b[38;5;124;43m'\u001b[39;49m\u001b[43m]\u001b[49m\u001b[43m,\u001b[49m\u001b[43mdf\u001b[49m\u001b[43m[\u001b[49m\u001b[38;5;124;43m'\u001b[39;49m\u001b[38;5;124;43mOrder_Demand\u001b[39;49m\u001b[38;5;124;43m'\u001b[39;49m\u001b[43m]\u001b[49m\u001b[43m,\u001b[49m\u001b[43m \u001b[49m\u001b[43max\u001b[49m\u001b[43m \u001b[49m\u001b[38;5;241;43m=\u001b[39;49m\u001b[43m \u001b[49m\u001b[43maxes\u001b[49m\u001b[43m[\u001b[49m\u001b[38;5;241;43m0\u001b[39;49m\u001b[43m]\u001b[49m\u001b[43m)\u001b[49m\n\u001b[0;32m     11\u001b[0m \u001b[38;5;28;01mdel\u001b[39;00m fig3\n",
      "\u001b[1;31mTypeError\u001b[0m: boxplot() takes from 0 to 1 positional arguments but 2 positional arguments (and 1 keyword-only argument) were given"
     ]
    },
    {
     "data": {
      "image/png": "[encoded data removed]",
      "text/plain": [
       "<Figure size 1600x400 with 2 Axes>"
      ]
     },
     "metadata": {},
     "output_type": "display_data"
    }
   ],
   "source": [
    "#Lets check the orders by warehouse.\n",
    "\n",
    "#Checking with Boxplots\n",
    "from matplotlib import rcParams\n",
    "# figure size in inches\n",
    "rcParams['figure.figsize'] = 16,4\n",
    "f, axes = plt.subplots(1, 2)\n",
    "#Regular Data\n",
    "fig3 = sb.boxplot( df['Warehouse'],df['Order_Demand'], ax = axes[0])\n",
    "#Data with Log Transformation\n",
    "fig4 = sb.boxplot( df['Warehouse'], np.log1p(df['Order_Demand']),ax = axes[1])\n",
    "\n",
    "del fig3, fig4"
   ]
  },
  {
   "cell_type": "markdown",
   "id": "abe4291f",
   "metadata": {},
   "source": [
    "\n",
    "# THEORY LINEAR REGRESSION"
   ]
  },
  {
   "cell_type": "code",
   "execution_count": null,
   "id": "fff18d4a",
   "metadata": {},
   "outputs": [],
   "source": []
  },
  {
   "cell_type": "code",
   "execution_count": null,
   "id": "1934f55a",
   "metadata": {},
   "outputs": [],
   "source": []
  },
  {
   "cell_type": "code",
   "execution_count": null,
   "id": "93d143cf",
   "metadata": {},
   "outputs": [],
   "source": []
  }
 ],
 "metadata": {
  "kernelspec": {
   "display_name": "Python 3 (ipykernel)",
   "language": "python",
   "name": "python3"
  },
  "language_info": {
   "codemirror_mode": {
    "name": "ipython",
    "version": 3
   },
   "file_extension": ".py",
   "mimetype": "text/x-python",
   "name": "python",
   "nbconvert_exporter": "python",
   "pygments_lexer": "ipython3",
   "version": "3.10.9"
  }
 },
 "nbformat": 4,
 "nbformat_minor": 5
}
